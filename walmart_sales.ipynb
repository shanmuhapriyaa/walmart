{
  "cells": [
    {
      "metadata": {
        "_uuid": "212a26f4-2ecd-43a2-aa2e-58a381da0f78",
        "_cell_guid": "6a36ce13-2cca-4f00-a02b-c742e2edd94a",
        "trusted": true,
        "id": "7qt1LQOiEuPs"
      },
      "cell_type": "code",
      "source": [
        "import numpy as np \n",
        "import pandas as pd \n",
        "import seaborn as sns;\n",
        "from sklearn.model_selection import train_test_split\n",
        "import matplotlib.pyplot as plt\n",
        "import statsmodels.formula.api as smf\n",
        "#accuracy\n",
        "from sklearn.metrics import accuracy_score\n",
        "from sklearn.model_selection import train_test_split\n",
        "#pca\n",
        "from sklearn.preprocessing import StandardScaler\n",
        "from sklearn.decomposition import PCA\n",
        "from sklearn.preprocessing import LabelEncoder\n",
        "#clustering\n",
        "from sklearn.cluster import KMeans\n",
        "from sklearn.preprocessing import StandardScaler\n",
        "from sklearn.datasets import make_blobs\n",
        "from sklearn.metrics import mean_absolute_error\n",
        "#models\n",
        "from sklearn.model_selection import KFold\n",
        "from sklearn.neighbors import KNeighborsRegressor\n",
        "from sklearn.tree import DecisionTreeRegressor\n",
        "from sklearn.ensemble import RandomForestRegressor\n",
        "from sklearn.ensemble import ExtraTreesRegressor\n",
        "from sklearn.svm import SVR\n",
        "import xgboost as xgb\n",
        "from sklearn.neural_network import MLPRegressor\n",
        "from sklearn.linear_model import LinearRegression\n",
        "import sklearn.metrics as metrics\n",
        "from sklearn.model_selection import GridSearchCV\n",
        "from sklearn.tree import export_graphviz\n",
        "from sklearn.neighbors import KNeighborsRegressor\n",
        "from sklearn.svm import SVR"
      ],
      "execution_count": null,
      "outputs": []
    },
    {
      "metadata": {
        "trusted": true,
        "id": "pa6QJ-PAEuQd",
        "outputId": "257f001c-3929-40d1-d27d-05b09a3dfd20"
      },
      "cell_type": "code",
      "source": [
        "import os\n",
        "print(os.listdir(\"../input/walmarts\"))"
      ],
      "execution_count": null,
      "outputs": [
        {
          "output_type": "stream",
          "text": "['train.csv', 'sampleSubmission.csv', 'features.csv', 'stores.csv', 'test.csv']\n",
          "name": "stdout"
        }
      ]
    },
    {
      "metadata": {
        "trusted": true,
        "id": "SVb_itgWEuQ_"
      },
      "cell_type": "code",
      "source": [
        "features=pd.read_csv(\"../input/walmarts/features.csv\",sep=',', header=0,\n",
        "                       names=['Store','Date','Temperature','Fuel_Price','MarkDown1','MarkDown2','MarkDown3','MarkDown4',\n",
        "                              'MarkDown5','CPI','Unemployment','IsHoliday']).drop(columns=['IsHoliday'])\n",
        "data=pd.read_csv(\"../input/walmarts/train.csv\", names=['Store','Dept','Date','weeklySales','isHoliday'],sep=',', header=0)\n",
        "stores=pd.read_csv(\"../input/walmarts/stores.csv\", names=['Store','Type','Size'],sep=',', header=0)\n",
        "\n"
      ],
      "execution_count": null,
      "outputs": []
    },
    {
      "metadata": {
        "trusted": true,
        "id": "OKUav39fEuRI"
      },
      "cell_type": "code",
      "source": [
        "data=data.merge(stores, how='left').merge(features, how='left')\n"
      ],
      "execution_count": null,
      "outputs": []
    },
    {
      "metadata": {
        "trusted": true,
        "id": "XiEr5vXSEuRQ"
      },
      "cell_type": "code",
      "source": [
        "data= pd.get_dummies(data, columns=[\"Type\"])"
      ],
      "execution_count": null,
      "outputs": []
    },
    {
      "metadata": {
        "trusted": true,
        "id": "3wdkKtMvEuSL"
      },
      "cell_type": "code",
      "source": [
        "data[['MarkDown1','MarkDown2','MarkDown3','MarkDown4', 'MarkDown5']] = data[['MarkDown1','MarkDown2','MarkDown3','MarkDown4','MarkDown5']].fillna(0)"
      ],
      "execution_count": null,
      "outputs": []
    },
    {
      "metadata": {
        "trusted": true,
        "id": "KB19IoFjEuSc"
      },
      "cell_type": "code",
      "source": [
        "data['Month'] = pd.to_datetime(data['Date']).dt.month\n",
        "data = data.drop(columns=[\"Date\", \"CPI\", \"Fuel_Price\", 'Unemployment', 'MarkDown3'])"
      ],
      "execution_count": null,
      "outputs": []
    },
    {
      "metadata": {
        "trusted": true,
        "id": "9QO7nkmWEuTD",
        "outputId": "be8b6633-45de-4e6f-a694-0ecb77316c4b"
      },
      "cell_type": "code",
      "source": [
        "data.head()"
      ],
      "execution_count": null,
      "outputs": [
        {
          "output_type": "execute_result",
          "execution_count": 8,
          "data": {
            "text/plain": "   Store  Dept  weeklySales  isHoliday    Size  Temperature  MarkDown1  \\\n0      1     1     24924.50      False  151315        42.31        0.0   \n1      1     1     46039.49       True  151315        38.51        0.0   \n2      1     1     41595.55      False  151315        39.93        0.0   \n3      1     1     19403.54      False  151315        46.63        0.0   \n4      1     1     21827.90      False  151315        46.50        0.0   \n\n   MarkDown2  MarkDown4  MarkDown5  Type_A  Type_B  Type_C  Month  \n0        0.0        0.0        0.0       1       0       0      2  \n1        0.0        0.0        0.0       1       0       0      2  \n2        0.0        0.0        0.0       1       0       0      2  \n3        0.0        0.0        0.0       1       0       0      2  \n4        0.0        0.0        0.0       1       0       0      3  ",
            "text/html": "<div>\n<style scoped>\n    .dataframe tbody tr th:only-of-type {\n        vertical-align: middle;\n    }\n\n    .dataframe tbody tr th {\n        vertical-align: top;\n    }\n\n    .dataframe thead th {\n        text-align: right;\n    }\n</style>\n<table border=\"1\" class=\"dataframe\">\n  <thead>\n    <tr style=\"text-align: right;\">\n      <th></th>\n      <th>Store</th>\n      <th>Dept</th>\n      <th>weeklySales</th>\n      <th>isHoliday</th>\n      <th>Size</th>\n      <th>Temperature</th>\n      <th>MarkDown1</th>\n      <th>MarkDown2</th>\n      <th>MarkDown4</th>\n      <th>MarkDown5</th>\n      <th>Type_A</th>\n      <th>Type_B</th>\n      <th>Type_C</th>\n      <th>Month</th>\n    </tr>\n  </thead>\n  <tbody>\n    <tr>\n      <th>0</th>\n      <td>1</td>\n      <td>1</td>\n      <td>24924.50</td>\n      <td>False</td>\n      <td>151315</td>\n      <td>42.31</td>\n      <td>0.0</td>\n      <td>0.0</td>\n      <td>0.0</td>\n      <td>0.0</td>\n      <td>1</td>\n      <td>0</td>\n      <td>0</td>\n      <td>2</td>\n    </tr>\n    <tr>\n      <th>1</th>\n      <td>1</td>\n      <td>1</td>\n      <td>46039.49</td>\n      <td>True</td>\n      <td>151315</td>\n      <td>38.51</td>\n      <td>0.0</td>\n      <td>0.0</td>\n      <td>0.0</td>\n      <td>0.0</td>\n      <td>1</td>\n      <td>0</td>\n      <td>0</td>\n      <td>2</td>\n    </tr>\n    <tr>\n      <th>2</th>\n      <td>1</td>\n      <td>1</td>\n      <td>41595.55</td>\n      <td>False</td>\n      <td>151315</td>\n      <td>39.93</td>\n      <td>0.0</td>\n      <td>0.0</td>\n      <td>0.0</td>\n      <td>0.0</td>\n      <td>1</td>\n      <td>0</td>\n      <td>0</td>\n      <td>2</td>\n    </tr>\n    <tr>\n      <th>3</th>\n      <td>1</td>\n      <td>1</td>\n      <td>19403.54</td>\n      <td>False</td>\n      <td>151315</td>\n      <td>46.63</td>\n      <td>0.0</td>\n      <td>0.0</td>\n      <td>0.0</td>\n      <td>0.0</td>\n      <td>1</td>\n      <td>0</td>\n      <td>0</td>\n      <td>2</td>\n    </tr>\n    <tr>\n      <th>4</th>\n      <td>1</td>\n      <td>1</td>\n      <td>21827.90</td>\n      <td>False</td>\n      <td>151315</td>\n      <td>46.50</td>\n      <td>0.0</td>\n      <td>0.0</td>\n      <td>0.0</td>\n      <td>0.0</td>\n      <td>1</td>\n      <td>0</td>\n      <td>0</td>\n      <td>3</td>\n    </tr>\n  </tbody>\n</table>\n</div>"
          },
          "metadata": {}
        }
      ]
    },
    {
      "metadata": {
        "trusted": true,
        "id": "At3aL_McEuTT"
      },
      "cell_type": "code",
      "source": [
        "def knn():\n",
        "    knn = KNeighborsRegressor(n_neighbors=10)\n",
        "    return knn\n",
        "def extraTreesRegressor():\n",
        "    clf = ExtraTreesRegressor(n_estimators=100,max_features='auto', verbose=1, n_jobs=1)\n",
        "    return clf\n",
        "def randomForestRegressor():\n",
        "    clf = RandomForestRegressor(n_estimators=100,max_features='log2', verbose=1)\n",
        "    return clf\n",
        "def XGB():\n",
        "    clf = XGBRegressor(verbosity=0)\n",
        "    return clf\n",
        "def svm():\n",
        "    clf = SVR(kernel='rbf', gamma='auto')\n",
        "    return clf\n",
        "def model_():\n",
        "    return randomForestRegressor()\n",
        "\n",
        "def predict_(m, test_x):\n",
        "    return pd.Series(m.predict(test_x))\n",
        "\n",
        "\n",
        "def train_(train_x, train_y):\n",
        "    m = model_()\n",
        "    m.fit(train_x, train_y)\n",
        "    return m\n",
        "\n",
        "def train_and_predict(train_x, train_y, test_x):\n",
        "    m = train_(train_x, train_y)\n",
        "    return predict_(m, test_x), m\n",
        "#\n",
        "def calculate_error(test_y, predicted, weights):\n",
        "    return mean_absolute_error(test_y, predicted, sample_weight=weights)"
      ],
      "execution_count": null,
      "outputs": []
    },
    {
      "metadata": {
        "trusted": true,
        "id": "uygVS9l1EuTu"
      },
      "cell_type": "code",
      "source": [
        "kf = KFold(n_splits=5)\n",
        "splited = []\n",
        "# dataset2 = dataset.copy()\n",
        "for name, group in data.groupby([\"Store\", \"Dept\"]):\n",
        "    group = group.reset_index(drop=True)\n",
        "    trains_x = []\n",
        "    trains_y = []\n",
        "    tests_x = []\n",
        "    tests_y = []\n",
        "    if group.shape[0] <= 5:\n",
        "        f = np.array(range(5))\n",
        "        np.random.shuffle(f)\n",
        "        group['fold'] = f[:group.shape[0]]\n",
        "        continue\n",
        "    fold = 0\n",
        "    for train_index, test_index in kf.split(group):\n",
        "        group.loc[test_index, 'fold'] = fold\n",
        "        fold += 1\n",
        "    splited.append(group)\n",
        "\n",
        "splited = pd.concat(splited).reset_index(drop=True)"
      ],
      "execution_count": null,
      "outputs": []
    },
    {
      "metadata": {
        "trusted": true,
        "id": "SeAZHEMVEuUQ",
        "outputId": "2e813f6a-6ddc-4a92-b302-ad93ce36bb16"
      },
      "cell_type": "code",
      "source": [
        "splited"
      ],
      "execution_count": null,
      "outputs": [
        {
          "output_type": "execute_result",
          "execution_count": 11,
          "data": {
            "text/plain": "        Store  Dept  weeklySales  isHoliday    Size  Temperature  MarkDown1  \\\n0           1     1     24924.50      False  151315        42.31       0.00   \n1           1     1     46039.49       True  151315        38.51       0.00   \n2           1     1     41595.55      False  151315        39.93       0.00   \n3           1     1     19403.54      False  151315        46.63       0.00   \n4           1     1     21827.90      False  151315        46.50       0.00   \n...       ...   ...          ...        ...     ...          ...        ...   \n421269     45    98       508.37      False  118221        64.88    4556.61   \n421270     45    98       628.10      False  118221        64.89    5046.74   \n421271     45    98      1061.02      False  118221        54.47    1956.28   \n421272     45    98       760.01      False  118221        56.47    2004.02   \n421273     45    98      1076.80      False  118221        58.85    4018.91   \n\n        MarkDown2  MarkDown4  MarkDown5  Type_A  Type_B  Type_C  Month  fold  \n0            0.00       0.00       0.00       1       0       0      2   0.0  \n1            0.00       0.00       0.00       1       0       0      2   0.0  \n2            0.00       0.00       0.00       1       0       0      2   0.0  \n3            0.00       0.00       0.00       1       0       0      2   0.0  \n4            0.00       0.00       0.00       1       0       0      3   0.0  \n...           ...        ...        ...     ...     ...     ...    ...   ...  \n421269      20.64    1601.01    3288.25       0       1       0      9   4.0  \n421270       0.00    2253.43    2340.01       0       1       0     10   4.0  \n421271       0.00     599.32    3990.54       0       1       0     10   4.0  \n421272       0.00     437.73    1537.49       0       1       0     10   4.0  \n421273      58.08     211.94     858.33       0       1       0     10   4.0  \n\n[421274 rows x 15 columns]",
            "text/html": "<div>\n<style scoped>\n    .dataframe tbody tr th:only-of-type {\n        vertical-align: middle;\n    }\n\n    .dataframe tbody tr th {\n        vertical-align: top;\n    }\n\n    .dataframe thead th {\n        text-align: right;\n    }\n</style>\n<table border=\"1\" class=\"dataframe\">\n  <thead>\n    <tr style=\"text-align: right;\">\n      <th></th>\n      <th>Store</th>\n      <th>Dept</th>\n      <th>weeklySales</th>\n      <th>isHoliday</th>\n      <th>Size</th>\n      <th>Temperature</th>\n      <th>MarkDown1</th>\n      <th>MarkDown2</th>\n      <th>MarkDown4</th>\n      <th>MarkDown5</th>\n      <th>Type_A</th>\n      <th>Type_B</th>\n      <th>Type_C</th>\n      <th>Month</th>\n      <th>fold</th>\n    </tr>\n  </thead>\n  <tbody>\n    <tr>\n      <th>0</th>\n      <td>1</td>\n      <td>1</td>\n      <td>24924.50</td>\n      <td>False</td>\n      <td>151315</td>\n      <td>42.31</td>\n      <td>0.00</td>\n      <td>0.00</td>\n      <td>0.00</td>\n      <td>0.00</td>\n      <td>1</td>\n      <td>0</td>\n      <td>0</td>\n      <td>2</td>\n      <td>0.0</td>\n    </tr>\n    <tr>\n      <th>1</th>\n      <td>1</td>\n      <td>1</td>\n      <td>46039.49</td>\n      <td>True</td>\n      <td>151315</td>\n      <td>38.51</td>\n      <td>0.00</td>\n      <td>0.00</td>\n      <td>0.00</td>\n      <td>0.00</td>\n      <td>1</td>\n      <td>0</td>\n      <td>0</td>\n      <td>2</td>\n      <td>0.0</td>\n    </tr>\n    <tr>\n      <th>2</th>\n      <td>1</td>\n      <td>1</td>\n      <td>41595.55</td>\n      <td>False</td>\n      <td>151315</td>\n      <td>39.93</td>\n      <td>0.00</td>\n      <td>0.00</td>\n      <td>0.00</td>\n      <td>0.00</td>\n      <td>1</td>\n      <td>0</td>\n      <td>0</td>\n      <td>2</td>\n      <td>0.0</td>\n    </tr>\n    <tr>\n      <th>3</th>\n      <td>1</td>\n      <td>1</td>\n      <td>19403.54</td>\n      <td>False</td>\n      <td>151315</td>\n      <td>46.63</td>\n      <td>0.00</td>\n      <td>0.00</td>\n      <td>0.00</td>\n      <td>0.00</td>\n      <td>1</td>\n      <td>0</td>\n      <td>0</td>\n      <td>2</td>\n      <td>0.0</td>\n    </tr>\n    <tr>\n      <th>4</th>\n      <td>1</td>\n      <td>1</td>\n      <td>21827.90</td>\n      <td>False</td>\n      <td>151315</td>\n      <td>46.50</td>\n      <td>0.00</td>\n      <td>0.00</td>\n      <td>0.00</td>\n      <td>0.00</td>\n      <td>1</td>\n      <td>0</td>\n      <td>0</td>\n      <td>3</td>\n      <td>0.0</td>\n    </tr>\n    <tr>\n      <th>...</th>\n      <td>...</td>\n      <td>...</td>\n      <td>...</td>\n      <td>...</td>\n      <td>...</td>\n      <td>...</td>\n      <td>...</td>\n      <td>...</td>\n      <td>...</td>\n      <td>...</td>\n      <td>...</td>\n      <td>...</td>\n      <td>...</td>\n      <td>...</td>\n      <td>...</td>\n    </tr>\n    <tr>\n      <th>421269</th>\n      <td>45</td>\n      <td>98</td>\n      <td>508.37</td>\n      <td>False</td>\n      <td>118221</td>\n      <td>64.88</td>\n      <td>4556.61</td>\n      <td>20.64</td>\n      <td>1601.01</td>\n      <td>3288.25</td>\n      <td>0</td>\n      <td>1</td>\n      <td>0</td>\n      <td>9</td>\n      <td>4.0</td>\n    </tr>\n    <tr>\n      <th>421270</th>\n      <td>45</td>\n      <td>98</td>\n      <td>628.10</td>\n      <td>False</td>\n      <td>118221</td>\n      <td>64.89</td>\n      <td>5046.74</td>\n      <td>0.00</td>\n      <td>2253.43</td>\n      <td>2340.01</td>\n      <td>0</td>\n      <td>1</td>\n      <td>0</td>\n      <td>10</td>\n      <td>4.0</td>\n    </tr>\n    <tr>\n      <th>421271</th>\n      <td>45</td>\n      <td>98</td>\n      <td>1061.02</td>\n      <td>False</td>\n      <td>118221</td>\n      <td>54.47</td>\n      <td>1956.28</td>\n      <td>0.00</td>\n      <td>599.32</td>\n      <td>3990.54</td>\n      <td>0</td>\n      <td>1</td>\n      <td>0</td>\n      <td>10</td>\n      <td>4.0</td>\n    </tr>\n    <tr>\n      <th>421272</th>\n      <td>45</td>\n      <td>98</td>\n      <td>760.01</td>\n      <td>False</td>\n      <td>118221</td>\n      <td>56.47</td>\n      <td>2004.02</td>\n      <td>0.00</td>\n      <td>437.73</td>\n      <td>1537.49</td>\n      <td>0</td>\n      <td>1</td>\n      <td>0</td>\n      <td>10</td>\n      <td>4.0</td>\n    </tr>\n    <tr>\n      <th>421273</th>\n      <td>45</td>\n      <td>98</td>\n      <td>1076.80</td>\n      <td>False</td>\n      <td>118221</td>\n      <td>58.85</td>\n      <td>4018.91</td>\n      <td>58.08</td>\n      <td>211.94</td>\n      <td>858.33</td>\n      <td>0</td>\n      <td>1</td>\n      <td>0</td>\n      <td>10</td>\n      <td>4.0</td>\n    </tr>\n  </tbody>\n</table>\n<p>421274 rows × 15 columns</p>\n</div>"
          },
          "metadata": {}
        }
      ]
    },
    {
      "metadata": {
        "trusted": true,
        "id": "6db8VS67EuUT",
        "outputId": "8cc41fbf-d98d-4532-93c1-96612e14584e"
      },
      "cell_type": "code",
      "source": [
        "best_model = None\n",
        "error_cv = 0\n",
        "best_error = np.iinfo(np.int32).max\n",
        "for fold in range(5):\n",
        "    data = splited.loc[splited['fold'] != fold]\n",
        "    test = splited.loc[splited['fold'] == fold]\n",
        "    train_y = data['weeklySales']\n",
        "    train_x = data.drop(columns=['weeklySales', 'fold'])\n",
        "    test_y = test['weeklySales']\n",
        "    test_x = test.drop(columns=['weeklySales', 'fold'])\n",
        "    print(dataset_train.shape, dataset_test.shape)\n",
        "    predicted, model = train_and_predict(train_x, train_y, test_x)\n",
        "    weights = test_x['isHoliday'].replace(True, 5).replace(False, 1)\n",
        "    error = calculate_error(test_y, predicted, weights)\n",
        "    error_cv += error\n",
        "    print(fold, error)\n",
        "    if error < best_error:\n",
        "        print('Find best model')\n",
        "        best_error = error\n",
        "        best_model = model\n",
        "error_cv /= 5"
      ],
      "execution_count": null,
      "outputs": [
        {
          "output_type": "stream",
          "text": "(335722, 15) (85552, 15)\n",
          "name": "stdout"
        },
        {
          "output_type": "stream",
          "text": "[Parallel(n_jobs=1)]: Using backend SequentialBackend with 1 concurrent workers.\n[Parallel(n_jobs=1)]: Done 100 out of 100 | elapsed:   45.1s finished\n[Parallel(n_jobs=1)]: Using backend SequentialBackend with 1 concurrent workers.\n[Parallel(n_jobs=1)]: Done 100 out of 100 | elapsed:    1.3s finished\n",
          "name": "stderr"
        },
        {
          "output_type": "stream",
          "text": "0 3715.352616969697\nFind best model\n(335722, 15) (85552, 15)\n",
          "name": "stdout"
        },
        {
          "output_type": "stream",
          "text": "[Parallel(n_jobs=1)]: Using backend SequentialBackend with 1 concurrent workers.\n[Parallel(n_jobs=1)]: Done 100 out of 100 | elapsed:   44.3s finished\n[Parallel(n_jobs=1)]: Using backend SequentialBackend with 1 concurrent workers.\n[Parallel(n_jobs=1)]: Done 100 out of 100 | elapsed:    1.1s finished\n",
          "name": "stderr"
        },
        {
          "output_type": "stream",
          "text": "1 6222.382799011188\n(335722, 15) (85552, 15)\n",
          "name": "stdout"
        },
        {
          "output_type": "stream",
          "text": "[Parallel(n_jobs=1)]: Using backend SequentialBackend with 1 concurrent workers.\n[Parallel(n_jobs=1)]: Done 100 out of 100 | elapsed:   44.1s finished\n[Parallel(n_jobs=1)]: Using backend SequentialBackend with 1 concurrent workers.\n[Parallel(n_jobs=1)]: Done 100 out of 100 | elapsed:    1.3s finished\n",
          "name": "stderr"
        },
        {
          "output_type": "stream",
          "text": "2 3865.8190336421712\n(335722, 15) (85552, 15)\n",
          "name": "stdout"
        },
        {
          "output_type": "stream",
          "text": "[Parallel(n_jobs=1)]: Using backend SequentialBackend with 1 concurrent workers.\n[Parallel(n_jobs=1)]: Done 100 out of 100 | elapsed:   41.9s finished\n[Parallel(n_jobs=1)]: Using backend SequentialBackend with 1 concurrent workers.\n[Parallel(n_jobs=1)]: Done 100 out of 100 | elapsed:    1.0s finished\n",
          "name": "stderr"
        },
        {
          "output_type": "stream",
          "text": "3 10438.723978309172\n(335722, 15) (85552, 15)\n",
          "name": "stdout"
        },
        {
          "output_type": "stream",
          "text": "[Parallel(n_jobs=1)]: Using backend SequentialBackend with 1 concurrent workers.\n[Parallel(n_jobs=1)]: Done 100 out of 100 | elapsed:   41.5s finished\n[Parallel(n_jobs=1)]: Using backend SequentialBackend with 1 concurrent workers.\n",
          "name": "stderr"
        },
        {
          "output_type": "stream",
          "text": "4 6021.518077487028\n",
          "name": "stdout"
        },
        {
          "output_type": "stream",
          "text": "[Parallel(n_jobs=1)]: Done 100 out of 100 | elapsed:    0.9s finished\n",
          "name": "stderr"
        }
      ]
    },
    {
      "metadata": {
        "trusted": true,
        "id": "qA3QJbW6EuUZ",
        "outputId": "1fbe498e-46d8-4332-f10a-c729687abbc3"
      },
      "cell_type": "code",
      "source": [
        "error_cv"
      ],
      "execution_count": null,
      "outputs": [
        {
          "output_type": "execute_result",
          "execution_count": 14,
          "data": {
            "text/plain": "6052.759301083852"
          },
          "metadata": {}
        }
      ]
    },
    {
      "metadata": {
        "trusted": true,
        "id": "17mXmYNiEuUj",
        "outputId": "23857277-ea28-4737-8a4d-4713a1f40a0a"
      },
      "cell_type": "code",
      "source": [
        "best_error"
      ],
      "execution_count": null,
      "outputs": [
        {
          "output_type": "execute_result",
          "execution_count": 15,
          "data": {
            "text/plain": "3715.352616969697"
          },
          "metadata": {}
        }
      ]
    },
    {
      "metadata": {
        "trusted": true,
        "id": "RE9o1RohEuUm"
      },
      "cell_type": "code",
      "source": [
        "test = pd.read_csv(\"../input/walmarts/test.csv\", names=['Store','Dept','Date','isHoliday'],sep=',', header=0)\n",
        "features=pd.read_csv(\"../input/walmarts/features.csv\",sep=',', header=0,\n",
        "                       names=['Store','Date','Temperature','Fuel_Price','MarkDown1','MarkDown2','MarkDown3','MarkDown4',\n",
        "                              'MarkDown5','CPI','Unemployment','IsHoliday']).drop(columns=['IsHoliday'])\n",
        "\n",
        "stores=pd.read_csv(\"../input/walmarts/stores.csv\", names=['Store','Type','Size'],sep=',', header=0)\n",
        "test = test.merge(stores, how='left').merge(features, how='left')"
      ],
      "execution_count": null,
      "outputs": []
    },
    {
      "metadata": {
        "trusted": true,
        "id": "HCDtkBxMEuUp"
      },
      "cell_type": "code",
      "source": [
        "test = pd.get_dummies(test, columns=[\"Type\"])\n",
        "test[['MarkDown1','MarkDown2','MarkDown3','MarkDown4', 'MarkDown5']] = test[['MarkDown1','MarkDown2','MarkDown3','MarkDown4','MarkDown5']].fillna(0)\n",
        "test = test.fillna(0)\n",
        "column_date = test['Date']\n",
        "test['Month'] = pd.to_datetime(test['Date']).dt.month\n",
        "test = test.drop(columns=[\"Date\", \"CPI\", \"Fuel_Price\", 'Unemployment', 'MarkDown3'])\n"
      ],
      "execution_count": null,
      "outputs": []
    },
    {
      "metadata": {
        "trusted": true,
        "id": "PU4Vt1UrEuUx",
        "outputId": "65ddcb2e-6ff7-4e2c-f29f-e7eabe2d9b1f"
      },
      "cell_type": "code",
      "source": [
        "predicted_test = best_model.predict(test)"
      ],
      "execution_count": null,
      "outputs": [
        {
          "output_type": "stream",
          "text": "[Parallel(n_jobs=1)]: Using backend SequentialBackend with 1 concurrent workers.\n[Parallel(n_jobs=1)]: Done 100 out of 100 | elapsed:    1.9s finished\n",
          "name": "stderr"
        }
      ]
    },
    {
      "metadata": {
        "trusted": true,
        "id": "b59rI7ANEuU_"
      },
      "cell_type": "code",
      "source": [
        "test['weeklySales'] = predicted_test\n",
        "test['Date'] = column_date\n",
        "test['id'] = test['Store'].astype(str) + '_' +  test['Dept'].astype(str) + '_' +  test['Date'].astype(str)\n",
        "test = test[['id', 'weeklySales']]\n",
        "test = test.rename(columns={'id': 'Id', 'weeklySales': 'Weekly_Sales'})"
      ],
      "execution_count": null,
      "outputs": []
    },
    {
      "metadata": {
        "trusted": true,
        "id": "a6P6DwMsEuVD"
      },
      "cell_type": "code",
      "source": [
        "test.to_csv('output.csv', index=False)"
      ],
      "execution_count": null,
      "outputs": []
    },
    {
      "metadata": {
        "trusted": true,
        "id": "0YW2S-KNEuVG"
      },
      "cell_type": "code",
      "source": [
        "import pickle"
      ],
      "execution_count": null,
      "outputs": []
    },
    {
      "metadata": {
        "trusted": true,
        "id": "fs1LJy5jEuVJ"
      },
      "cell_type": "code",
      "source": [
        "Pkl_Filename = \"Pickle_RL_Model.pkl\"  \n",
        "\n",
        "with open(Pkl_Filename, 'wb') as file:  \n",
        "    pickle.dump(best_model, file)"
      ],
      "execution_count": null,
      "outputs": []
    },
    {
      "metadata": {
        "trusted": true,
        "id": "qNh0TMtnEuVM",
        "outputId": "ff777336-4da6-4f88-cee2-5466236c88bd"
      },
      "cell_type": "code",
      "source": [
        "with open(Pkl_Filename, 'rb') as file:  \n",
        "    Pickled_LR_Model = pickle.load(file)\n",
        "\n",
        "Pickled_LR_Model"
      ],
      "execution_count": null,
      "outputs": [
        {
          "output_type": "execute_result",
          "execution_count": 36,
          "data": {
            "text/plain": "RandomForestRegressor(max_features='log2', verbose=1)"
          },
          "metadata": {}
        }
      ]
    },
    {
      "metadata": {
        "trusted": true,
        "id": "azzO6do4EuVQ",
        "outputId": "b07ab952-9b3d-4a5e-a61e-98ba90b277fb"
      },
      "cell_type": "code",
      "source": [
        "score = Pickled_LR_Model.score(test_x, test_y)  \n",
        "# Print the Score\n",
        "print(\"Test score: {0:.2f} %\".format(100 * score)) "
      ],
      "execution_count": null,
      "outputs": [
        {
          "output_type": "error",
          "ename": "NameError",
          "evalue": "name 'Xtest' is not defined",
          "traceback": [
            "\u001b[0;31m---------------------------------------------------------------------------\u001b[0m",
            "\u001b[0;31mNameError\u001b[0m                                 Traceback (most recent call last)",
            "\u001b[0;32m<ipython-input-37-3b38a70612d8>\u001b[0m in \u001b[0;36m<module>\u001b[0;34m\u001b[0m\n\u001b[0;32m----> 1\u001b[0;31m \u001b[0mscore\u001b[0m \u001b[0;34m=\u001b[0m \u001b[0mPickled_LR_Model\u001b[0m\u001b[0;34m.\u001b[0m\u001b[0mscore\u001b[0m\u001b[0;34m(\u001b[0m\u001b[0mXtest\u001b[0m\u001b[0;34m,\u001b[0m \u001b[0mYtest\u001b[0m\u001b[0;34m)\u001b[0m\u001b[0;34m\u001b[0m\u001b[0;34m\u001b[0m\u001b[0m\n\u001b[0m\u001b[1;32m      2\u001b[0m \u001b[0;31m# Print the Score\u001b[0m\u001b[0;34m\u001b[0m\u001b[0;34m\u001b[0m\u001b[0;34m\u001b[0m\u001b[0m\n\u001b[1;32m      3\u001b[0m \u001b[0mprint\u001b[0m\u001b[0;34m(\u001b[0m\u001b[0;34m\"Test score: {0:.2f} %\"\u001b[0m\u001b[0;34m.\u001b[0m\u001b[0mformat\u001b[0m\u001b[0;34m(\u001b[0m\u001b[0;36m100\u001b[0m \u001b[0;34m*\u001b[0m \u001b[0mscore\u001b[0m\u001b[0;34m)\u001b[0m\u001b[0;34m)\u001b[0m\u001b[0;34m\u001b[0m\u001b[0;34m\u001b[0m\u001b[0m\n",
            "\u001b[0;31mNameError\u001b[0m: name 'Xtest' is not defined"
          ]
        }
      ]
    }
  ],
  "metadata": {
    "kernelspec": {
      "language": "python",
      "display_name": "Python 3",
      "name": "python3"
    },
    "language_info": {
      "name": "python",
      "version": "3.7.6",
      "mimetype": "text/x-python",
      "codemirror_mode": {
        "name": "ipython",
        "version": 3
      },
      "pygments_lexer": "ipython3",
      "nbconvert_exporter": "python",
      "file_extension": ".py"
    },
    "colab": {
      "name": "walmart sales.ipynb",
      "provenance": []
    }
  },
  "nbformat": 4,
  "nbformat_minor": 0
}